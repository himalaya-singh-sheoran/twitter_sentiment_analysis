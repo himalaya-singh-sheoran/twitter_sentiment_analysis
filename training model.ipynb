{
 "cells": [
  {
   "cell_type": "code",
   "execution_count": null,
   "id": "52ed1532-a28b-4432-8afd-7996ba51e8f9",
   "metadata": {},
   "outputs": [],
   "source": [
    "import pandas as pd\n",
    "import numpy as np\n",
    "import pickle\n",
    "from tqdm import notebook\n",
    "from sklearn.model_selection import train_test_split,StratifiedKFold\n",
    "from sklearn.metrics import accuracy_score\n",
    "\n",
    "import optuna"
   ]
  },
  {
   "cell_type": "code",
   "execution_count": null,
   "id": "521160ac-4571-41a8-bfbc-2b3ccedcada6",
   "metadata": {},
   "outputs": [],
   "source": [
    "from xgboost import XGBClassifier\n",
    "from sklearn.feature_extraction.text import TfidfVectorizer\n"
   ]
  },
  {
   "cell_type": "code",
   "execution_count": null,
   "id": "dd348dea-cb79-4bd6-8e6c-3974267d5435",
   "metadata": {},
   "outputs": [],
   "source": [
    "df = pd.read_csv('final_tweets.csv')\n",
    "df.head(3)"
   ]
  },
  {
   "cell_type": "code",
   "execution_count": null,
   "id": "843bbff8-e154-43b3-92a1-5794b97c8924",
   "metadata": {},
   "outputs": [],
   "source": [
    "df.target.value_counts()"
   ]
  },
  {
   "cell_type": "code",
   "execution_count": null,
   "id": "c429e21b-eb52-4bb8-b28b-78ccd8c397cd",
   "metadata": {},
   "outputs": [],
   "source": [
    "#creating train test splits\n",
    "df_train,df_test = train_test_split(df,test_size=0.25,stratify = df['target'])\n",
    "df_train.reset_index(drop=True,inplace=True)\n",
    "df_test.reset_index(drop=True,inplace=True)\n",
    "df_train.shape,df_test.shape"
   ]
  },
  {
   "cell_type": "code",
   "execution_count": null,
   "id": "a4db900c-de98-4bd2-9988-17b5c23e23fb",
   "metadata": {},
   "outputs": [],
   "source": [
    "train_x = df_train['text']\n",
    "test_x = df_test['text']\n",
    "train_y = df_train['target']\n",
    "test_y = df_test['target']"
   ]
  },
  {
   "cell_type": "code",
   "execution_count": null,
   "id": "9cec4cfa-8723-4051-8737-fe5ee8947d99",
   "metadata": {},
   "outputs": [],
   "source": [
    "vect = TfidfVectorizer(max_features=5000)\n",
    "vect"
   ]
  },
  {
   "cell_type": "code",
   "execution_count": null,
   "id": "4241f1ab-5ed8-44e9-94bf-9b038477b8a9",
   "metadata": {},
   "outputs": [],
   "source": [
    "train_X_dtm = vect.fit_transform(train_x.values.astype('U'))\n",
    "test_X_dtm = vect.transform(test_x.values.astype('U'))"
   ]
  },
  {
   "cell_type": "code",
   "execution_count": null,
   "id": "3b7c3fa5-1b8c-495d-83e4-832c656266c7",
   "metadata": {},
   "outputs": [],
   "source": [
    "train_X_dtm.shape,test_X_dtm.shape"
   ]
  },
  {
   "cell_type": "code",
   "execution_count": null,
   "id": "bf385a0c-c0e9-495e-a87e-8d43e8aefbb6",
   "metadata": {},
   "outputs": [],
   "source": [
    "clf = XGBClassifier()\n",
    "clf"
   ]
  },
  {
   "cell_type": "code",
   "execution_count": null,
   "id": "0b7855de-ea2b-44fc-b7ca-3c14a768b9b2",
   "metadata": {},
   "outputs": [],
   "source": [
    "clf.fit(train_X_dtm,train_y)"
   ]
  },
  {
   "cell_type": "code",
   "execution_count": null,
   "id": "93f4db6f-b01c-41f9-9def-ceb68998c45c",
   "metadata": {},
   "outputs": [],
   "source": [
    "y_pred=clf.predict(train_X_dtm)\n",
    "print('Model accuracy score with default hyperparameters on train set: {0:0.4f}'. format(accuracy_score(train_y, y_pred)))"
   ]
  },
  {
   "cell_type": "code",
   "execution_count": null,
   "id": "d3a6935e-0076-49f7-9111-f38c4ea10316",
   "metadata": {},
   "outputs": [],
   "source": [
    "y_pred=clf.predict(test_X_dtm)\n",
    "print('Model accuracy score with default hyperparameters on test set: {0:0.4f}'. format(accuracy_score(test_y, y_pred)))"
   ]
  },
  {
   "cell_type": "code",
   "execution_count": null,
   "id": "a31c6514-012d-4207-bf96-d475df0b9102",
   "metadata": {},
   "outputs": [],
   "source": [
    "def objective(trial,train_x=train_x,train_y=train_y,test_x=test_x,test_y=test_y):\n",
    "    \n",
    "    param = {\n",
    "        'lambda': trial.suggest_loguniform('lambda', 1e-4, 10.0),\n",
    "        'alpha': trial.suggest_loguniform('alpha', 1e-4, 10.0),\n",
    "        'colsample_bytree': trial.suggest_float('colsample_bytree', 0.5,1.0,log=True),\n",
    "        'subsample': trial.suggest_categorical('subsample', [0.4,0.5,0.6,0.7,0.8,0.9,1.0]),\n",
    "        'learning_rate': trial.suggest_float('learning_rate', 0.001,0.5,log=True),\n",
    "        'max_depth': trial.suggest_int('max_depth', 5,15,step=1),\n",
    "        'n_estimators':trial.suggest_int('n_estimators', 80, 200),\n",
    "    }\n",
    "    max_feats = {\n",
    "        'max_features':trial.suggest_int('max_features', 3000, 6000)\n",
    "    }\n",
    "    model =XGBClassifier(**param,use_label_encoder=False)\n",
    "    vect = TfidfVectorizer(**max_feats)\n",
    "    train_X_dtm = vect.fit_transform(train_x.values.astype('U'))\n",
    "    test_X_dtm = vect.transform(test_x.values.astype('U'))\n",
    "    model.fit(train_X_dtm,train_y,eval_set=[(test_X_dtm,test_y)],early_stopping_rounds=100,verbose=False)    \n",
    "    preds = model.predict(test_X_dtm)\n",
    "    accuracy = accuracy_score(test_y, preds)\n",
    "    return accuracy"
   ]
  },
  {
   "cell_type": "code",
   "execution_count": null,
   "id": "7e058e8f-832d-47d5-a0b6-d846a6585857",
   "metadata": {},
   "outputs": [],
   "source": [
    "# hyperparamter optimisation using optuna\n",
    "%%capture\n",
    "study = optuna.create_study(direction='maximize')\n",
    "study.optimize(objective, n_trials=50)\n",
    "print('Number of finished trials:', len(study.trials))\n",
    "print('Best trial:', study.best_trial.params)"
   ]
  },
  {
   "cell_type": "code",
   "execution_count": null,
   "id": "5d44c76c-d593-49fd-b273-6a8b340c5b05",
   "metadata": {},
   "outputs": [],
   "source": [
    "import joblib\n",
    "#save study\n",
    "joblib.dump(study, \"study.pkl\")\n",
    "#load study\n",
    "study2 = joblib.load(\"texts.pkl\")"
   ]
  },
  {
   "cell_type": "code",
   "execution_count": null,
   "id": "ab0c37a1-7c69-48bb-94d6-374f6539fc04",
   "metadata": {},
   "outputs": [],
   "source": [
    "best_params = study.best_trial.params"
   ]
  },
  {
   "cell_type": "code",
   "execution_count": null,
   "id": "0cf41c10-9eeb-457f-b203-fd5db6fe0ee4",
   "metadata": {},
   "outputs": [],
   "source": [
    "max_feats = best_params['max_features']\n",
    "model_params = {i:best_params[i] for i in best_params if i !='max_features'}"
   ]
  },
  {
   "cell_type": "code",
   "execution_count": null,
   "id": "834d6fb0-f35c-4901-912b-fd51f6cc5e5f",
   "metadata": {},
   "outputs": [],
   "source": [
    "vect = TfidfVectorizer(max_features=max_feats)\n",
    "vect"
   ]
  },
  {
   "cell_type": "code",
   "execution_count": null,
   "id": "ee60e6b3-c938-42ca-ba01-f58e5cdc445c",
   "metadata": {},
   "outputs": [],
   "source": [
    "train_X_dtm = vect.fit_transform(train_x.values.astype('U'))\n",
    "test_X_dtm = vect.transform(test_x.values.astype('U'))"
   ]
  },
  {
   "cell_type": "code",
   "execution_count": null,
   "id": "69afe699-b34c-4ea5-8ca0-a793db157e41",
   "metadata": {},
   "outputs": [],
   "source": [
    "clf = XGBClassifier(**model_params)\n",
    "clf"
   ]
  },
  {
   "cell_type": "code",
   "execution_count": null,
   "id": "2c561d8e-7407-4fcc-b16c-7f9890835cad",
   "metadata": {},
   "outputs": [],
   "source": [
    "clf.fit(train_X_dtm,train_y)"
   ]
  },
  {
   "cell_type": "code",
   "execution_count": null,
   "id": "368106b9-51ca-409c-8b8d-379d3ce3e681",
   "metadata": {},
   "outputs": [],
   "source": [
    "y_pred=clf.predict(train_X_dtm)\n",
    "print('Model accuracy score with default hyperparameters on train set: {0:0.4f}'. format(accuracy_score(train_y, y_pred)))"
   ]
  },
  {
   "cell_type": "code",
   "execution_count": null,
   "id": "28f9afe5-c4ae-4110-96ab-f06dd16994ea",
   "metadata": {},
   "outputs": [],
   "source": [
    "y_pred=clf.predict(test_X_dtm)\n",
    "print('Model accuracy score with default hyperparameters on test set: {0:0.4f}'. format(accuracy_score(test_y, y_pred)))"
   ]
  },
  {
   "cell_type": "code",
   "execution_count": null,
   "id": "b77c1d6f-724a-4a56-a816-30ad4ffe4c81",
   "metadata": {},
   "outputs": [],
   "source": [
    "#saving the model\n",
    "pickle_out = open(\"XGB_model.pkl\",'wb')\n",
    "pickle.dump(clf,pickle_out)\n",
    "pickle_out.close()"
   ]
  }
 ],
 "metadata": {
  "kernelspec": {
   "display_name": "Python 3",
   "language": "python",
   "name": "python3"
  },
  "language_info": {
   "codemirror_mode": {
    "name": "ipython",
    "version": 3
   },
   "file_extension": ".py",
   "mimetype": "text/x-python",
   "name": "python",
   "nbconvert_exporter": "python",
   "pygments_lexer": "ipython3",
   "version": "3.8.5"
  }
 },
 "nbformat": 4,
 "nbformat_minor": 5
}